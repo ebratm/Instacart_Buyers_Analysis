{
 "cells": [
  {
   "cell_type": "code",
   "execution_count": 1,
   "id": "63684b06",
   "metadata": {},
   "outputs": [],
   "source": [
    "# import libraries\n",
    "import pandas as pd\n",
    "import numpy as np\n",
    "import os"
   ]
  },
  {
   "cell_type": "code",
   "execution_count": 16,
   "id": "bf3700e0",
   "metadata": {},
   "outputs": [],
   "source": [
    "# 02. Data Types\n",
    "x = 80+20\n"
   ]
  },
  {
   "cell_type": "code",
   "execution_count": 17,
   "id": "33d3ed71",
   "metadata": {},
   "outputs": [],
   "source": [
    "#03. different way of reaching results of 100\n",
    "x = 80+20\n",
    "y = 200-100\n",
    "z = 10*10"
   ]
  },
  {
   "cell_type": "code",
   "execution_count": 22,
   "id": "82ba8086",
   "metadata": {},
   "outputs": [
    {
     "data": {
      "text/plain": [
       "100"
      ]
     },
     "execution_count": 22,
     "metadata": {},
     "output_type": "execute_result"
    }
   ],
   "source": [
    "z"
   ]
  },
  {
   "cell_type": "code",
   "execution_count": 25,
   "id": "5e8b65ea",
   "metadata": {},
   "outputs": [
    {
     "name": "stdout",
     "output_type": "stream",
     "text": [
      "100\n"
     ]
    }
   ],
   "source": [
    "print(x)"
   ]
  },
  {
   "cell_type": "code",
   "execution_count": 26,
   "id": "75cbd8e5",
   "metadata": {},
   "outputs": [
    {
     "data": {
      "text/plain": [
       "int"
      ]
     },
     "execution_count": 26,
     "metadata": {},
     "output_type": "execute_result"
    }
   ],
   "source": [
    "type(y)"
   ]
  },
  {
   "cell_type": "code",
   "execution_count": 27,
   "id": "9d48cd56",
   "metadata": {},
   "outputs": [
    {
     "name": "stdout",
     "output_type": "stream",
     "text": [
      "100 100 100\n"
     ]
    }
   ],
   "source": [
    "print (x,y,z)"
   ]
  },
  {
   "cell_type": "code",
   "execution_count": 30,
   "id": "8f9ab45e",
   "metadata": {},
   "outputs": [],
   "source": [
    "#Code 2 floating-point variables and divide them by each other\n",
    "x = 10.81\n",
    "y = 12.29\n",
    "z = (y/x)"
   ]
  },
  {
   "cell_type": "code",
   "execution_count": 31,
   "id": "84cdf0fa",
   "metadata": {},
   "outputs": [
    {
     "name": "stdout",
     "output_type": "stream",
     "text": [
      "1.1369102682701202\n"
     ]
    }
   ],
   "source": [
    "print(z)"
   ]
  },
  {
   "cell_type": "code",
   "execution_count": 33,
   "id": "733447ea",
   "metadata": {},
   "outputs": [],
   "source": [
    "#Construct 2 short sentences made of separate strings\n",
    "n = \"Congratulations\"\n",
    "m = \"Argentina\""
   ]
  },
  {
   "cell_type": "code",
   "execution_count": 47,
   "id": "3e86b71b",
   "metadata": {},
   "outputs": [
    {
     "name": "stdout",
     "output_type": "stream",
     "text": [
      "Congratulations Argentina\n"
     ]
    }
   ],
   "source": [
    "print(n, m)"
   ]
  },
  {
   "cell_type": "code",
   "execution_count": 49,
   "id": "77671064",
   "metadata": {},
   "outputs": [],
   "source": [
    "#Construct a short word made of separate strings\n",
    "\n",
    "a = 'F'\n",
    "b = 'R'\n",
    "c = 'A'\n",
    "d = 'N'\n",
    "e = 'C'\n",
    "f = 'E'\n",
    "\n",
    "g = (a + b + c + d + e + f)"
   ]
  },
  {
   "cell_type": "code",
   "execution_count": 50,
   "id": "1f98916e",
   "metadata": {},
   "outputs": [
    {
     "name": "stdout",
     "output_type": "stream",
     "text": [
      "FRANCE\n"
     ]
    }
   ],
   "source": [
    "print(g)"
   ]
  },
  {
   "cell_type": "code",
   "execution_count": 52,
   "id": "f83861f7",
   "metadata": {},
   "outputs": [],
   "source": [
    "g = 'France'"
   ]
  },
  {
   "cell_type": "code",
   "execution_count": 53,
   "id": "1817b552",
   "metadata": {},
   "outputs": [
    {
     "data": {
      "text/plain": [
       "'FranceFranceFranceFranceFranceFranceFranceFranceFranceFranceFranceFranceFranceFranceFranceFranceFranceFranceFranceFranceFranceFranceFranceFranceFranceFranceFranceFranceFranceFranceFranceFranceFranceFranceFranceFranceFranceFranceFranceFranceFranceFranceFranceFranceFranceFranceFranceFranceFranceFranceFranceFranceFranceFranceFranceFranceFranceFranceFranceFranceFranceFranceFranceFranceFranceFranceFranceFranceFranceFranceFranceFranceFranceFranceFranceFranceFranceFranceFranceFranceFranceFranceFranceFranceFranceFranceFranceFranceFranceFranceFranceFranceFranceFranceFranceFranceFranceFranceFranceFrance'"
      ]
     },
     "execution_count": 53,
     "metadata": {},
     "output_type": "execute_result"
    }
   ],
   "source": [
    "g * 100"
   ]
  },
  {
   "cell_type": "code",
   "execution_count": null,
   "id": "e22f97a2",
   "metadata": {},
   "outputs": [],
   "source": []
  }
 ],
 "metadata": {
  "kernelspec": {
   "display_name": "Python 3 (ipykernel)",
   "language": "python",
   "name": "python3"
  },
  "language_info": {
   "codemirror_mode": {
    "name": "ipython",
    "version": 3
   },
   "file_extension": ".py",
   "mimetype": "text/x-python",
   "name": "python",
   "nbconvert_exporter": "python",
   "pygments_lexer": "ipython3",
   "version": "3.9.13"
  }
 },
 "nbformat": 4,
 "nbformat_minor": 5
}
